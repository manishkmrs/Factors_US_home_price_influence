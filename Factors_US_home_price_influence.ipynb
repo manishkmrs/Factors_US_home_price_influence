{
 "cells": [
  {
   "cell_type": "code",
   "execution_count": null,
   "metadata": {
    "_cell_guid": "b1076dfc-b9ad-4769-8c92-a6c4dae69d19",
    "_uuid": "8f2839f25d086af736a60e9eeb907d3b93b6e0e5",
    "execution": {
     "iopub.execute_input": "2023-06-23T04:10:40.89565Z",
     "iopub.status.busy": "2023-06-23T04:10:40.894615Z",
     "iopub.status.idle": "2023-06-23T04:10:40.903655Z",
     "shell.execute_reply": "2023-06-23T04:10:40.902436Z",
     "shell.execute_reply.started": "2023-06-23T04:10:40.895612Z"
    }
   },
   "outputs": [],
   "source": [
    "import numpy as np # linear algebra\n",
    "import pandas as pd # data processing, CSV file I/O (e.g. pd.read_csv)\n",
    "import os\n",
    "for dirname, _, filenames in os.walk('/kaggle/input'):\n",
    "    for filename in filenames:\n",
    "        print(os.path.join(dirname, filename))"
   ]
  },
  {
   "cell_type": "code",
   "execution_count": null,
   "metadata": {
    "execution": {
     "iopub.execute_input": "2023-06-23T04:10:40.907181Z",
     "iopub.status.busy": "2023-06-23T04:10:40.90678Z",
     "iopub.status.idle": "2023-06-23T04:10:40.916548Z",
     "shell.execute_reply": "2023-06-23T04:10:40.915676Z",
     "shell.execute_reply.started": "2023-06-23T04:10:40.90715Z"
    }
   },
   "outputs": [],
   "source": [
    "import seaborn as sns\n",
    "import matplotlib.pyplot as plt\n",
    "%matplotlib inline"
   ]
  },
  {
   "cell_type": "code",
   "execution_count": null,
   "metadata": {
    "execution": {
     "iopub.execute_input": "2023-06-23T04:10:40.922609Z",
     "iopub.status.busy": "2023-06-23T04:10:40.921637Z",
     "iopub.status.idle": "2023-06-23T04:10:40.950422Z",
     "shell.execute_reply": "2023-06-23T04:10:40.949195Z",
     "shell.execute_reply.started": "2023-06-23T04:10:40.92257Z"
    }
   },
   "outputs": [],
   "source": [
    "# Load demand data\n",
    "\n",
    "dataset1 = pd.read_csv('/Users/manish/Downloads/us_demand_data.csv')\n",
    "\n",
    "# Load supply data\n",
    "dataset2 = pd.read_csv('/Users/manish/Downloads/us_supply_data.csv')\n",
    "\n",
    "# Convert \"DATE\" column in dataset1 to consistent date format\n",
    "dataset1['DATE'] = pd.to_datetime(dataset1['DATE'])\n",
    "\n",
    "# Convert \"period\" column in dataset2 to consistent date format\n",
    "dataset2['Period'] = pd.to_datetime(dataset2['Period'], format='%d-%m-%Y').dt.strftime('%Y-%m-%d')\n",
    "dataset2.rename(columns={'Period': 'DATE'}, inplace=True)\n",
    "dataset2['DATE'] = pd.to_datetime(dataset2['DATE'])\n",
    "\n",
    "#Merge dataset1 and dataset2 into dataset3\n",
    "dataset3 = pd.merge(dataset1, dataset2)\n",
    "# Save dataset3 \n",
    "dataset3.to_csv('dataset3.csv', index=False)"
   ]
  },
  {
   "cell_type": "code",
   "execution_count": null,
   "metadata": {
    "execution": {
     "iopub.execute_input": "2023-06-23T04:10:40.953128Z",
     "iopub.status.busy": "2023-06-23T04:10:40.952606Z",
     "iopub.status.idle": "2023-06-23T04:10:40.963025Z",
     "shell.execute_reply": "2023-06-23T04:10:40.961697Z",
     "shell.execute_reply.started": "2023-06-23T04:10:40.953088Z"
    }
   },
   "outputs": [],
   "source": [
    "# Extract year, month, and day From DATE column so the model can train easily\n",
    "dataset3['year'] = dataset3['DATE'].dt.year\n",
    "dataset3['month'] = dataset3['DATE'].dt.month\n",
    "dataset3['day'] = dataset3['DATE'].dt.day"
   ]
  },
  {
   "cell_type": "code",
   "execution_count": null,
   "metadata": {
    "execution": {
     "iopub.execute_input": "2023-06-23T04:10:40.964999Z",
     "iopub.status.busy": "2023-06-23T04:10:40.964528Z",
     "iopub.status.idle": "2023-06-23T04:10:40.98024Z",
     "shell.execute_reply": "2023-06-23T04:10:40.979345Z",
     "shell.execute_reply.started": "2023-06-23T04:10:40.964957Z"
    }
   },
   "outputs": [],
   "source": [
    "#drop Date column\n",
    "dataset3 = dataset3.drop('DATE', axis=1)\n",
    "dataset3 = dataset3.drop('Unnamed: 0', axis=1)"
   ]
  },
  {
   "cell_type": "code",
   "execution_count": null,
   "metadata": {
    "execution": {
     "iopub.execute_input": "2023-06-23T04:10:40.982755Z",
     "iopub.status.busy": "2023-06-23T04:10:40.982386Z",
     "iopub.status.idle": "2023-06-23T04:10:41.003704Z",
     "shell.execute_reply": "2023-06-23T04:10:41.002082Z",
     "shell.execute_reply.started": "2023-06-23T04:10:40.982719Z"
    }
   },
   "outputs": [],
   "source": [
    "dataset3.info()"
   ]
  },
  {
   "cell_type": "code",
   "execution_count": null,
   "metadata": {
    "execution": {
     "iopub.execute_input": "2023-06-23T04:10:41.151589Z",
     "iopub.status.busy": "2023-06-23T04:10:41.151037Z",
     "iopub.status.idle": "2023-06-23T04:10:41.169302Z",
     "shell.execute_reply": "2023-06-23T04:10:41.167846Z",
     "shell.execute_reply.started": "2023-06-23T04:10:41.151554Z"
    }
   },
   "outputs": [],
   "source": [
    "dataset3.head()"
   ]
  },
  {
   "cell_type": "code",
   "execution_count": null,
   "metadata": {
    "execution": {
     "iopub.execute_input": "2023-06-23T04:10:41.173143Z",
     "iopub.status.busy": "2023-06-23T04:10:41.172746Z",
     "iopub.status.idle": "2023-06-23T04:10:41.184109Z",
     "shell.execute_reply": "2023-06-23T04:10:41.182778Z",
     "shell.execute_reply.started": "2023-06-23T04:10:41.173114Z"
    }
   },
   "outputs": [],
   "source": [
    "#Checking null values\n",
    "dataset3.isnull().sum()"
   ]
  },
  {
   "cell_type": "code",
   "execution_count": null,
   "metadata": {
    "execution": {
     "iopub.execute_input": "2023-06-23T04:10:41.18617Z",
     "iopub.status.busy": "2023-06-23T04:10:41.185456Z",
     "iopub.status.idle": "2023-06-23T04:10:41.201111Z",
     "shell.execute_reply": "2023-06-23T04:10:41.199567Z",
     "shell.execute_reply.started": "2023-06-23T04:10:41.186136Z"
    }
   },
   "outputs": [],
   "source": [
    "#Checking categorical variables \n",
    "categorical_features=[feature for feature in dataset3.columns if dataset3[feature].dtypes=='O']\n",
    "print('number of categorical variables:',len(categorical_features))"
   ]
  },
  {
   "cell_type": "code",
   "execution_count": null,
   "metadata": {
    "execution": {
     "iopub.execute_input": "2023-06-23T04:10:41.20358Z",
     "iopub.status.busy": "2023-06-23T04:10:41.202862Z",
     "iopub.status.idle": "2023-06-23T04:10:41.225066Z",
     "shell.execute_reply": "2023-06-23T04:10:41.223772Z",
     "shell.execute_reply.started": "2023-06-23T04:10:41.203535Z"
    }
   },
   "outputs": [],
   "source": [
    "##Checking NUMERICAL CONTINUOUS FEATURE : float type\n",
    "\n",
    "numerical_continuous_feature=[feature for feature in dataset3.columns if  dataset3[feature].dtype=='float']\n",
    "dataset3[numerical_continuous_feature].head()"
   ]
  },
  {
   "cell_type": "code",
   "execution_count": null,
   "metadata": {
    "execution": {
     "iopub.execute_input": "2023-06-23T04:10:41.22946Z",
     "iopub.status.busy": "2023-06-23T04:10:41.229076Z",
     "iopub.status.idle": "2023-06-23T04:10:43.201565Z",
     "shell.execute_reply": "2023-06-23T04:10:43.200543Z",
     "shell.execute_reply.started": "2023-06-23T04:10:41.229431Z"
    }
   },
   "outputs": [],
   "source": [
    "\n",
    "for feature in numerical_continuous_feature:\n",
    "  plt.figure(figsize=(7,7))\n",
    "  sns.distplot(dataset3[feature],kde=True)"
   ]
  },
  {
   "cell_type": "code",
   "execution_count": null,
   "metadata": {
    "execution": {
     "iopub.execute_input": "2023-06-23T04:10:43.203322Z",
     "iopub.status.busy": "2023-06-23T04:10:43.20298Z",
     "iopub.status.idle": "2023-06-23T04:10:44.875981Z",
     "shell.execute_reply": "2023-06-23T04:10:44.874842Z",
     "shell.execute_reply.started": "2023-06-23T04:10:43.203294Z"
    }
   },
   "outputs": [],
   "source": [
    "for feature in numerical_continuous_feature:\n",
    "  plt.figure(figsize=(7,7))\n",
    "  plt.scatter(x=feature,y='HPI',data=dataset3)\n",
    "  plt.xlabel(feature)\n",
    "  plt.ylabel(\"HPI\")\n",
    "  plt.title(feature,fontsize=30)"
   ]
  },
  {
   "cell_type": "code",
   "execution_count": null,
   "metadata": {
    "execution": {
     "iopub.execute_input": "2023-06-23T04:10:44.877568Z",
     "iopub.status.busy": "2023-06-23T04:10:44.877221Z",
     "iopub.status.idle": "2023-06-23T04:10:44.886131Z",
     "shell.execute_reply": "2023-06-23T04:10:44.884841Z",
     "shell.execute_reply.started": "2023-06-23T04:10:44.877538Z"
    }
   },
   "outputs": [],
   "source": [
    "# => Before we go ahead with heatmaps and pairplots , lets do transformation of the data and see the relation with respect to HPI once again\n",
    "\n",
    "for feature in numerical_continuous_feature:\n",
    "  dataset3[feature]=np.log(dataset3[feature])"
   ]
  },
  {
   "cell_type": "code",
   "execution_count": null,
   "metadata": {
    "execution": {
     "iopub.execute_input": "2023-06-23T04:10:44.888237Z",
     "iopub.status.busy": "2023-06-23T04:10:44.887891Z",
     "iopub.status.idle": "2023-06-23T04:10:45.20478Z",
     "shell.execute_reply": "2023-06-23T04:10:45.203644Z",
     "shell.execute_reply.started": "2023-06-23T04:10:44.888209Z"
    }
   },
   "outputs": [],
   "source": [
    "dataset3['HPI']=np.log(dataset3['HPI'])\n",
    "dataset3['HPI'].hist()"
   ]
  },
  {
   "cell_type": "code",
   "execution_count": null,
   "metadata": {
    "execution": {
     "iopub.execute_input": "2023-06-23T04:10:45.206709Z",
     "iopub.status.busy": "2023-06-23T04:10:45.206342Z",
     "iopub.status.idle": "2023-06-23T04:10:47.241732Z",
     "shell.execute_reply": "2023-06-23T04:10:47.240654Z",
     "shell.execute_reply.started": "2023-06-23T04:10:45.206659Z"
    }
   },
   "outputs": [],
   "source": [
    "for feature in numerical_continuous_feature:\n",
    "  plt.figure(figsize=(7,7))\n",
    "  plt.scatter(x=feature,y='HPI',data=dataset3)\n",
    "  plt.xlabel(feature)\n",
    "  plt.ylabel(\"HPI\")\n",
    "  plt.title(feature,fontsize=30)"
   ]
  },
  {
   "cell_type": "code",
   "execution_count": null,
   "metadata": {
    "execution": {
     "iopub.execute_input": "2023-06-23T04:10:47.244201Z",
     "iopub.status.busy": "2023-06-23T04:10:47.243159Z",
     "iopub.status.idle": "2023-06-23T04:10:48.086879Z",
     "shell.execute_reply": "2023-06-23T04:10:48.085441Z",
     "shell.execute_reply.started": "2023-06-23T04:10:47.244155Z"
    }
   },
   "outputs": [],
   "source": [
    "# checking the heatmaps and conclude if there is a factor that have any correlation with HPI\n",
    "plt.figure(figsize=(15,15))\n",
    "sns.heatmap(dataset3.corr(),annot=True)\n",
    "plt.show()"
   ]
  },
  {
   "cell_type": "code",
   "execution_count": null,
   "metadata": {
    "execution": {
     "iopub.execute_input": "2023-06-23T04:10:48.088671Z",
     "iopub.status.busy": "2023-06-23T04:10:48.088293Z",
     "iopub.status.idle": "2023-06-23T04:10:48.093938Z",
     "shell.execute_reply": "2023-06-23T04:10:48.092782Z",
     "shell.execute_reply.started": "2023-06-23T04:10:48.088641Z"
    }
   },
   "outputs": [],
   "source": [
    "# => GDPC1,construction ,year have very strong correlation with the HPI"
   ]
  },
  {
   "cell_type": "code",
   "execution_count": null,
   "metadata": {
    "execution": {
     "iopub.execute_input": "2023-06-23T04:10:48.095795Z",
     "iopub.status.busy": "2023-06-23T04:10:48.095419Z",
     "iopub.status.idle": "2023-06-23T04:11:44.670373Z",
     "shell.execute_reply": "2023-06-23T04:11:44.668986Z",
     "shell.execute_reply.started": "2023-06-23T04:10:48.095766Z"
    }
   },
   "outputs": [],
   "source": [
    "sns.pairplot(data=dataset3)"
   ]
  },
  {
   "cell_type": "code",
   "execution_count": null,
   "metadata": {
    "execution": {
     "iopub.execute_input": "2023-06-23T04:11:44.672224Z",
     "iopub.status.busy": "2023-06-23T04:11:44.671875Z",
     "iopub.status.idle": "2023-06-23T04:11:45.787849Z",
     "shell.execute_reply": "2023-06-23T04:11:45.786787Z",
     "shell.execute_reply.started": "2023-06-23T04:11:44.672193Z"
    }
   },
   "outputs": [],
   "source": [
    "#looking into outliers\n",
    "for feature in numerical_continuous_feature:\n",
    "  data=dataset3.copy()\n",
    "  if 0 in data[feature].unique():\n",
    "    pass\n",
    "  else:\n",
    "    data.boxplot(column=feature)\n",
    "    plt.ylabel(feature)\n",
    "    plt.title(feature)\n",
    "    plt.show()"
   ]
  },
  {
   "cell_type": "code",
   "execution_count": null,
   "metadata": {
    "execution": {
     "iopub.execute_input": "2023-06-23T04:11:45.79252Z",
     "iopub.status.busy": "2023-06-23T04:11:45.792107Z",
     "iopub.status.idle": "2023-06-23T04:11:45.808843Z",
     "shell.execute_reply": "2023-06-23T04:11:45.807527Z",
     "shell.execute_reply.started": "2023-06-23T04:11:45.792487Z"
    }
   },
   "outputs": [],
   "source": [
    "##Checking NUMERICAL CONTINUOUS FEATURE: int type\n",
    "\n",
    "numerical_continuous_feature=[feature for feature in dataset3.columns if  dataset3[feature].dtype=='int']\n",
    "dataset3[numerical_continuous_feature].head()"
   ]
  },
  {
   "cell_type": "code",
   "execution_count": null,
   "metadata": {
    "execution": {
     "iopub.execute_input": "2023-06-23T04:11:45.811086Z",
     "iopub.status.busy": "2023-06-23T04:11:45.810215Z",
     "iopub.status.idle": "2023-06-23T04:11:48.190912Z",
     "shell.execute_reply": "2023-06-23T04:11:48.189548Z",
     "shell.execute_reply.started": "2023-06-23T04:11:45.811049Z"
    }
   },
   "outputs": [],
   "source": [
    "for feature in numerical_continuous_feature:\n",
    "  plt.figure(figsize=(7,7))\n",
    "  sns.distplot(dataset3[feature],kde=True)"
   ]
  },
  {
   "cell_type": "code",
   "execution_count": null,
   "metadata": {
    "execution": {
     "iopub.execute_input": "2023-06-23T04:11:48.192814Z",
     "iopub.status.busy": "2023-06-23T04:11:48.192344Z",
     "iopub.status.idle": "2023-06-23T04:11:51.235165Z",
     "shell.execute_reply": "2023-06-23T04:11:51.234307Z",
     "shell.execute_reply.started": "2023-06-23T04:11:48.192784Z"
    }
   },
   "outputs": [],
   "source": [
    "for feature in numerical_continuous_feature:\n",
    "  plt.figure(figsize=(7,7))\n",
    "  plt.scatter(x=feature,y='HPI',data=dataset3)\n",
    "  plt.xlabel(feature)\n",
    "  plt.ylabel(\"HPI\")\n",
    "  plt.title(feature,fontsize=30)"
   ]
  },
  {
   "cell_type": "code",
   "execution_count": null,
   "metadata": {
    "execution": {
     "iopub.execute_input": "2023-06-23T04:11:51.236741Z",
     "iopub.status.busy": "2023-06-23T04:11:51.236218Z",
     "iopub.status.idle": "2023-06-23T04:11:51.246241Z",
     "shell.execute_reply": "2023-06-23T04:11:51.244907Z",
     "shell.execute_reply.started": "2023-06-23T04:11:51.236702Z"
    }
   },
   "outputs": [],
   "source": [
    "\n",
    "# => Before we go ahead with heatmaps and pairplots , lets do transformation of the data and see the relation with respect to HPI once again \n",
    "for feature in numerical_continuous_feature:\n",
    "  dataset3[feature]=np.log(dataset3[feature])"
   ]
  },
  {
   "cell_type": "code",
   "execution_count": null,
   "metadata": {
    "execution": {
     "iopub.execute_input": "2023-06-23T04:11:51.248226Z",
     "iopub.status.busy": "2023-06-23T04:11:51.247766Z",
     "iopub.status.idle": "2023-06-23T04:11:54.2455Z",
     "shell.execute_reply": "2023-06-23T04:11:54.244357Z",
     "shell.execute_reply.started": "2023-06-23T04:11:51.248192Z"
    }
   },
   "outputs": [],
   "source": [
    "for feature in numerical_continuous_feature:\n",
    "  plt.figure(figsize=(7,7))\n",
    "  plt.scatter(x=feature,y='HPI',data=dataset3)\n",
    "  plt.xlabel(feature)\n",
    "  plt.ylabel(\"HPI\")\n",
    "  plt.title(feature,fontsize=30)"
   ]
  },
  {
   "cell_type": "code",
   "execution_count": null,
   "metadata": {
    "execution": {
     "iopub.execute_input": "2023-06-23T04:11:54.247854Z",
     "iopub.status.busy": "2023-06-23T04:11:54.246965Z",
     "iopub.status.idle": "2023-06-23T04:11:55.482662Z",
     "shell.execute_reply": "2023-06-23T04:11:55.481845Z",
     "shell.execute_reply.started": "2023-06-23T04:11:54.247819Z"
    }
   },
   "outputs": [],
   "source": [
    "#looking into outliers\n",
    "for feature in numerical_continuous_feature:\n",
    "  data=dataset3.copy()\n",
    "  if 0 in data[feature].unique():\n",
    "    pass\n",
    "  else:\n",
    "    data.boxplot(column=feature)\n",
    "    plt.ylabel(feature)\n",
    "    plt.title(feature)\n",
    "    plt.show()"
   ]
  },
  {
   "cell_type": "markdown",
   "metadata": {},
   "source": [
    "# # **Training**"
   ]
  },
  {
   "cell_type": "code",
   "execution_count": null,
   "metadata": {
    "execution": {
     "iopub.execute_input": "2023-06-23T04:11:55.484365Z",
     "iopub.status.busy": "2023-06-23T04:11:55.483876Z",
     "iopub.status.idle": "2023-06-23T04:11:55.488932Z",
     "shell.execute_reply": "2023-06-23T04:11:55.487736Z",
     "shell.execute_reply.started": "2023-06-23T04:11:55.484336Z"
    }
   },
   "outputs": [],
   "source": [
    "from sklearn.ensemble import RandomForestRegressor\n",
    "from sklearn.pipeline import Pipeline\n",
    "from sklearn.impute import SimpleImputer\n",
    "\n"
   ]
  },
  {
   "cell_type": "code",
   "execution_count": null,
   "metadata": {
    "execution": {
     "iopub.execute_input": "2023-06-23T04:11:55.490795Z",
     "iopub.status.busy": "2023-06-23T04:11:55.490453Z",
     "iopub.status.idle": "2023-06-23T04:11:55.506436Z",
     "shell.execute_reply": "2023-06-23T04:11:55.505192Z",
     "shell.execute_reply.started": "2023-06-23T04:11:55.490769Z"
    }
   },
   "outputs": [],
   "source": [
    "from sklearn.linear_model import LinearRegression\n",
    "from sklearn.metrics import r2_score\n",
    "from sklearn.ensemble import RandomForestRegressor, GradientBoostingRegressor\n",
    "from sklearn.linear_model import LinearRegression\n",
    "from sklearn.model_selection import cross_val_score\n",
    "from sklearn.metrics import mean_absolute_error, mean_squared_error, r2_score\n"
   ]
  },
  {
   "cell_type": "code",
   "execution_count": null,
   "metadata": {
    "execution": {
     "iopub.execute_input": "2023-06-23T04:11:55.508837Z",
     "iopub.status.busy": "2023-06-23T04:11:55.508266Z",
     "iopub.status.idle": "2023-06-23T04:11:55.522732Z",
     "shell.execute_reply": "2023-06-23T04:11:55.521776Z",
     "shell.execute_reply.started": "2023-06-23T04:11:55.508796Z"
    }
   },
   "outputs": [],
   "source": [
    "X=dataset3.drop(['HPI'],axis=1)\n",
    "y=dataset3['HPI']"
   ]
  },
  {
   "cell_type": "code",
   "execution_count": null,
   "metadata": {
    "execution": {
     "iopub.execute_input": "2023-06-23T04:11:55.525187Z",
     "iopub.status.busy": "2023-06-23T04:11:55.524651Z",
     "iopub.status.idle": "2023-06-23T04:11:55.53795Z",
     "shell.execute_reply": "2023-06-23T04:11:55.536661Z",
     "shell.execute_reply.started": "2023-06-23T04:11:55.525148Z"
    }
   },
   "outputs": [],
   "source": [
    "#spliting our dependent and independent features\n",
    "from sklearn.model_selection import train_test_split\n",
    "X_train,X_test,y_train,y_test=train_test_split(X,y,test_size=0.3,random_state=1)"
   ]
  },
  {
   "cell_type": "code",
   "execution_count": null,
   "metadata": {
    "execution": {
     "iopub.execute_input": "2023-06-23T04:11:55.54017Z",
     "iopub.status.busy": "2023-06-23T04:11:55.539709Z",
     "iopub.status.idle": "2023-06-23T04:11:55.556931Z",
     "shell.execute_reply": "2023-06-23T04:11:55.555632Z",
     "shell.execute_reply.started": "2023-06-23T04:11:55.540086Z"
    }
   },
   "outputs": [],
   "source": [
    "print(X_train.shape)\n",
    "print(X_test.shape)"
   ]
  },
  {
   "cell_type": "code",
   "execution_count": null,
   "metadata": {
    "execution": {
     "iopub.execute_input": "2023-06-23T04:11:55.55973Z",
     "iopub.status.busy": "2023-06-23T04:11:55.559139Z",
     "iopub.status.idle": "2023-06-23T04:11:55.575475Z",
     "shell.execute_reply": "2023-06-23T04:11:55.574196Z",
     "shell.execute_reply.started": "2023-06-23T04:11:55.559615Z"
    }
   },
   "outputs": [],
   "source": [
    "#using a minmaxScaler\n",
    "from sklearn.preprocessing import MinMaxScaler\n",
    "minmax=MinMaxScaler()"
   ]
  },
  {
   "cell_type": "code",
   "execution_count": null,
   "metadata": {},
   "outputs": [],
   "source": [
    "scaled_X_train= pd.DataFrame(minmax.fit_transform(X_train),columns=X_train.columns)\n",
    "scaled_X_test=pd.DataFrame(minmax.transform(X_test),columns=X_test.columns)"
   ]
  },
  {
   "cell_type": "code",
   "execution_count": null,
   "metadata": {},
   "outputs": [],
   "source": []
  },
  {
   "cell_type": "code",
   "execution_count": null,
   "metadata": {
    "execution": {
     "iopub.execute_input": "2023-06-23T04:11:55.577966Z",
     "iopub.status.busy": "2023-06-23T04:11:55.57722Z",
     "iopub.status.idle": "2023-06-23T04:11:55.634324Z",
     "shell.execute_reply": "2023-06-23T04:11:55.633081Z",
     "shell.execute_reply.started": "2023-06-23T04:11:55.577922Z"
    }
   },
   "outputs": [],
   "source": [
    "#Linear regression model\n",
    "my_pipeline = Pipeline(steps=[('preprocessor', SimpleImputer()),\n",
    "                              ('model', LinearRegression())\n",
    "                             ])\n",
    "\n",
    "\n",
    "scores = -1 * cross_val_score(my_pipeline, X_train, y_train,\n",
    "                              cv=5,\n",
    "                              scoring='neg_mean_absolute_error')\n",
    "\n",
    "print(\"MAE scores:\\n\", scores)"
   ]
  },
  {
   "cell_type": "code",
   "execution_count": null,
   "metadata": {
    "execution": {
     "iopub.execute_input": "2023-06-23T04:11:55.635941Z",
     "iopub.status.busy": "2023-06-23T04:11:55.635583Z",
     "iopub.status.idle": "2023-06-23T04:11:55.649414Z",
     "shell.execute_reply": "2023-06-23T04:11:55.648211Z",
     "shell.execute_reply.started": "2023-06-23T04:11:55.635913Z"
    }
   },
   "outputs": [],
   "source": [
    "\n",
    "model=LinearRegression()\n",
    "model.fit(X_train,y_train)\n",
    "y_pred=model.predict(X_test)\n",
    "r2_score(y_test,y_pred)\n"
   ]
  },
  {
   "cell_type": "code",
   "execution_count": null,
   "metadata": {
    "execution": {
     "iopub.execute_input": "2023-06-23T04:11:55.651832Z",
     "iopub.status.busy": "2023-06-23T04:11:55.651087Z",
     "iopub.status.idle": "2023-06-23T04:11:56.463649Z",
     "shell.execute_reply": "2023-06-23T04:11:56.462451Z",
     "shell.execute_reply.started": "2023-06-23T04:11:55.651794Z"
    }
   },
   "outputs": [],
   "source": [
    "#RandomForestRegressor model\n",
    "my_pipeline = Pipeline(steps=[('preprocessor', SimpleImputer()),\n",
    "                              ('model', RandomForestRegressor())\n",
    "                             ])\n",
    "\n",
    "\n",
    "scores = -1 * cross_val_score(my_pipeline, X_train, y_train,\n",
    "                              cv=5,\n",
    "                              scoring='neg_mean_absolute_error')\n",
    "\n",
    "print(\"MAE scores:\\n\", scores)"
   ]
  },
  {
   "cell_type": "code",
   "execution_count": null,
   "metadata": {
    "execution": {
     "iopub.execute_input": "2023-06-23T04:11:56.465596Z",
     "iopub.status.busy": "2023-06-23T04:11:56.465167Z",
     "iopub.status.idle": "2023-06-23T04:11:56.636305Z",
     "shell.execute_reply": "2023-06-23T04:11:56.635299Z",
     "shell.execute_reply.started": "2023-06-23T04:11:56.465558Z"
    }
   },
   "outputs": [],
   "source": [
    "model=RandomForestRegressor()\n",
    "model.fit(X_train,y_train)\n",
    "y_pred=model.predict(X_test)\n",
    "r2_score(y_test,y_pred)"
   ]
  },
  {
   "cell_type": "code",
   "execution_count": null,
   "metadata": {
    "execution": {
     "iopub.execute_input": "2023-06-23T04:11:56.637962Z",
     "iopub.status.busy": "2023-06-23T04:11:56.637547Z",
     "iopub.status.idle": "2023-06-23T04:11:56.958251Z",
     "shell.execute_reply": "2023-06-23T04:11:56.956927Z",
     "shell.execute_reply.started": "2023-06-23T04:11:56.637934Z"
    }
   },
   "outputs": [],
   "source": [
    "#GradientBoostingRegressor model\n",
    "my_pipeline = Pipeline(steps=[('preprocessor', SimpleImputer()),\n",
    "                              ('model', GradientBoostingRegressor())\n",
    "                             ])\n",
    "\n",
    "\n",
    "scores = -1 * cross_val_score(my_pipeline, X_train, y_train,\n",
    "                              cv=5,\n",
    "                              scoring='neg_mean_absolute_error')\n",
    "\n",
    "print(\"MAE scores:\\n\", scores)"
   ]
  },
  {
   "cell_type": "code",
   "execution_count": null,
   "metadata": {
    "execution": {
     "iopub.execute_input": "2023-06-23T04:11:56.960018Z",
     "iopub.status.busy": "2023-06-23T04:11:56.959604Z",
     "iopub.status.idle": "2023-06-23T04:11:57.033557Z",
     "shell.execute_reply": "2023-06-23T04:11:57.032353Z",
     "shell.execute_reply.started": "2023-06-23T04:11:56.959989Z"
    }
   },
   "outputs": [],
   "source": [
    "model=GradientBoostingRegressor()\n",
    "model.fit(X_train,y_train)\n",
    "y_pred=model.predict(X_test)\n",
    "r2_score(y_test,y_pred)\n"
   ]
  }
 ],
 "metadata": {
  "kernelspec": {
   "display_name": "Python 3 (ipykernel)",
   "language": "python",
   "name": "python3"
  },
  "language_info": {
   "codemirror_mode": {
    "name": "ipython",
    "version": 3
   },
   "file_extension": ".py",
   "mimetype": "text/x-python",
   "name": "python",
   "nbconvert_exporter": "python",
   "pygments_lexer": "ipython3",
   "version": "3.9.12"
  }
 },
 "nbformat": 4,
 "nbformat_minor": 4
}
